{
 "cells": [
  {
   "cell_type": "markdown",
   "metadata": {
    "colab_type": "text",
    "id": "view-in-github"
   },
   "source": [
    "<a href=\"https://colab.research.google.com/github/tristantoupin/ECSE415-FinalProject/blob/master/SVM_classifier.ipynb\" target=\"_parent\"><img src=\"https://colab.research.google.com/assets/colab-badge.svg\" alt=\"Open In Colab\"/></a>"
   ]
  },
  {
   "cell_type": "markdown",
   "metadata": {
    "colab_type": "text",
    "id": "u0RBxs9-NPHd"
   },
   "source": [
    "# Classifer"
   ]
  },
  {
   "cell_type": "code",
   "execution_count": 45,
   "metadata": {
    "colab": {},
    "colab_type": "code",
    "id": "8geB0RRQNPHg"
   },
   "outputs": [],
   "source": [
    "import numpy as np\n",
    "from sklearn import svm\n",
    "from sklearn import metrics\n",
    "from sklearn.model_selection import GridSearchCV, train_test_split\n",
    "from sklearn.utils import shuffle\n",
    "import cv2\n",
    "import matplotlib.pyplot as plt\n",
    "import os\n",
    "import math\n",
    "import itertools\n",
    "\n",
    "from skimage.feature import hog\n",
    "from joblib import dump, load\n",
    "from sklearn.ensemble import BaggingClassifier\n",
    "\n",
    "path_classification = './MIO-TCD-Classification'"
   ]
  },
  {
   "cell_type": "markdown",
   "metadata": {
    "colab_type": "text",
    "id": "_8fVpEwwNPHm"
   },
   "source": [
    "## Helper functions for image plotting, importing, and preprocessing"
   ]
  },
  {
   "cell_type": "code",
   "execution_count": 3,
   "metadata": {
    "colab": {},
    "colab_type": "code",
    "id": "3nrnfSRdNPHo"
   },
   "outputs": [],
   "source": [
    "def plot_images(list_of_images, max_col = 4):\n",
    "    \"\"\"\n",
    "    @brief Plot a list of given images with\n",
    "    @param list_of_images List of images to plot\n",
    "    @param max_col Number of colomns to plot your figures\n",
    "    \"\"\"\n",
    "    n = len(list_of_images)\n",
    "    if n == 1:\n",
    "        plt.imshow(list_of_images[0]); plt.axis('off'); plt.show()\n",
    "    else:\n",
    "        # get number of columns and rows required\n",
    "        r, c = 1, n\n",
    "        if n > max_col:\n",
    "            c = max_col\n",
    "            r = int(math.ceil(n/max_col))\n",
    "    \n",
    "        fig = plt.figure(figsize=(17, max_col * r))\n",
    "        for i, (img) in enumerate(list_of_images):\n",
    "            ax = fig.add_subplot(r, c, (i+1))\n",
    "            ax.set_title(\"Image \" + str(i))\n",
    "            ax.axis('off')\n",
    "            ax.imshow(img, cmap=plt.cm.gray)"
   ]
  },
  {
   "cell_type": "code",
   "execution_count": 4,
   "metadata": {
    "colab": {},
    "colab_type": "code",
    "id": "ZBC075JTNPHx"
   },
   "outputs": [],
   "source": [
    "def pad_resize_images(img_list, output_size):\n",
    "    \"\"\"\n",
    "    @brief Resize each image within a list to a given shape while also keeping its aspect ratio by the use of padding\n",
    "    @param img_list The list of images to resize\n",
    "    @param output_size The shape of the output images are output_size x output_size\n",
    "    \"\"\"\n",
    "    BLACK = 0\n",
    "    result = np.empty_like(img_list)\n",
    "    \n",
    "    for i, img in enumerate(img_list):\n",
    "        \n",
    "        height, width = img.shape\n",
    "        ratio = float(output_size) / max([height, width])\n",
    "        height_new, width_new = tuple([int(val * ratio) for val in (height, width)])\n",
    "        img_resized = cv2.resize(img, (height_new, width_new))\n",
    "        \n",
    "        height_adjust = output_size - height_new\n",
    "        width_adjust = output_size - width_new\n",
    "        \n",
    "        top = math.ceil(height_adjust / 2)\n",
    "        bot = height_adjust - top\n",
    "        left = math.ceil(width_adjust / 2)\n",
    "        right = width_adjust - left\n",
    "        \n",
    "        result[i] = cv2.resize(\n",
    "            cv2.copyMakeBorder(img_resized, top, bot, left, right, cv2.BORDER_CONSTANT, value=BLACK),\n",
    "            (output_size, output_size))\n",
    "    return result"
   ]
  },
  {
   "cell_type": "code",
   "execution_count": 49,
   "metadata": {},
   "outputs": [],
   "source": [
    "def fine_tune_svm(x_tr, y_tr, folds=10):\n",
    "    \"\"\"\n",
    "    @brief Trains, fine tunes, and returns a set of models at different parameters, prints the best parameters possible\n",
    "    @param x_tr Training vectors\n",
    "    @param y_tr Target vector\n",
    "    @param folds Number of folds for grid search cross validation\n",
    "    \"\"\"\n",
    "    tuned_parameters = [{'kernel': ['rbf'], \n",
    "                            'gamma': [1e-3, 1e-4],\n",
    "                            'C': [1, 10, 100]},\n",
    "                        {'kernel': ['linear'],\n",
    "                             'gamma': [1e-3, 1e-4],\n",
    "                             'C': [1, 10, 100]}]\n",
    "    \n",
    "    clf = GridSearchCV(svm.SVC(),\n",
    "                       tuned_parameters, \n",
    "                       cv=folds,\n",
    "                       scoring = 'accuracy', \n",
    "                       n_jobs = -1, \n",
    "                       verbose = 1)\n",
    "    \n",
    "    clf.fit(x_tr, y_tr)\n",
    "    return clf\n",
    "\n",
    "def plot_confusion_matrix(cm, classes,\n",
    "                          normalize=False,\n",
    "                          title='Confusion matrix',\n",
    "                          cmap=plt.cm.Blues):\n",
    "    \"\"\"\n",
    "    This function prints and plots the confusion matrix.\n",
    "    Normalization can be applied by setting `normalize=True`.\n",
    "    \"\"\"\n",
    "    if normalize:\n",
    "        cm = cm.astype('float') / cm.sum(axis=1)[:, np.newaxis]\n",
    "        print(\"Normalized confusion matrix\")\n",
    "    else:\n",
    "        print('Confusion matrix, without normalization')\n",
    "\n",
    "    plt.figure(figsize=(15,15))\n",
    "    plt.imshow(cm, interpolation='nearest', cmap=cmap)\n",
    "    plt.title(title)\n",
    "    plt.colorbar()\n",
    "    tick_marks = np.arange(len(classes))\n",
    "    plt.xticks(tick_marks, classes, rotation=45)\n",
    "    plt.yticks(tick_marks, classes)\n",
    "\n",
    "    fmt = '.2f' if normalize else 'd'\n",
    "    thresh = cm.max() / 2.\n",
    "    for i, j in itertools.product(range(cm.shape[0]), range(cm.shape[1])):\n",
    "        plt.text(j, i, format(cm[i, j], fmt),\n",
    "                 horizontalalignment=\"center\",\n",
    "                 color=\"white\" if cm[i, j] > thresh else \"black\")\n",
    "\n",
    "    plt.ylabel('True label')\n",
    "    plt.xlabel('Predicted label')\n",
    "    plt.tight_layout()"
   ]
  },
  {
   "cell_type": "markdown",
   "metadata": {
    "colab_type": "text",
    "id": "zshDMw92NPH3"
   },
   "source": [
    "## Import a subset of or all images for each category with their relevant label"
   ]
  },
  {
   "cell_type": "code",
   "execution_count": 6,
   "metadata": {
    "colab": {},
    "colab_type": "code",
    "id": "eM9c9bPhNPH4",
    "outputId": "91cf0150-6b66-445c-ceba-15ed47ab7053"
   },
   "outputs": [
    {
     "name": "stdout",
     "output_type": "stream",
     "text": [
      "Elapsed Time: 16.438451290130615\n",
      "Number of Images: 46017\n"
     ]
    }
   ],
   "source": [
    "path_classification_train = os.path.join(path_classification, 'train')\n",
    "\n",
    "#\n",
    "# Change this number if you want more or less images. Set it to -1 if you want all images\n",
    "# NOTE: This will ATTEMPT to have the same number of images per category. The categories\n",
    "# have a large difference in number of images.\n",
    "#\n",
    "number_images_category = 5000\n",
    "categories = os.listdir(path_classification_train)\n",
    "classification_images = []\n",
    "classification_targets = []\n",
    "\n",
    "for category in categories:\n",
    "    path_category = os.path.join(path_classification_train, category)\n",
    "    for i, image_name in enumerate(os.listdir(path_category)):\n",
    "        \n",
    "        if i == number_images_category:\n",
    "            break\n",
    "            \n",
    "        image = cv2.imread(os.path.join(path_category, image_name), cv2.IMREAD_GRAYSCALE)\n",
    "        classification_images.append(image)\n",
    "        \n",
    "        label = categories.index(category)\n",
    "        classification_targets.append(label)\n",
    "\n",
    "classification_images = np.array(classification_images)\n",
    "classification_targets = np.array(classification_targets)\n",
    "\n",
    "assert len(classification_images) == len(classification_targets)\n",
    "print('Number of Images:', len(classification_images))"
   ]
  },
  {
   "cell_type": "markdown",
   "metadata": {},
   "source": [
    "## Extract HoG features from training images"
   ]
  },
  {
   "cell_type": "code",
   "execution_count": 30,
   "metadata": {},
   "outputs": [
    {
     "name": "stderr",
     "output_type": "stream",
     "text": [
      "C:\\ProgramData\\Anaconda3\\envs\\opencv-env\\lib\\site-packages\\skimage\\feature\\_hog.py:150: skimage_deprecation: Default value of `block_norm`==`L1` is deprecated and will be changed to `L2-Hys` in v0.15. To supress this message specify explicitly the normalization method.\n",
      "  skimage_deprecation)\n"
     ]
    }
   ],
   "source": [
    "n_hog_images = 500\n",
    "hog_images = []\n",
    "hog_samples, hog_targets = shuffle(classification_images, classification_targets)\n",
    "\n",
    "for image in hog_samples[:n_hog_images]:\n",
    "\n",
    "    fd, hog_image = hog(image, orientations=8, pixels_per_cell=(16, 16),\n",
    "                    cells_per_block=(1, 1), visualize=True, multichannel=False)\n",
    "    \n",
    "    hog_images.append(hog_image)\n",
    "hog_targets = hog_targets[:n_hog_images]"
   ]
  },
  {
   "cell_type": "markdown",
   "metadata": {
    "colab_type": "text",
    "id": "57hVorGKNPIC"
   },
   "source": [
    "## Pad images to maintain one common aspect ratio and flatten for fitting"
   ]
  },
  {
   "cell_type": "code",
   "execution_count": 31,
   "metadata": {
    "colab": {},
    "colab_type": "code",
    "id": "CRfs84gNNPID"
   },
   "outputs": [],
   "source": [
    "size = 128\n",
    "padded_images = np.array([x.flatten() for x in pad_resize_images(classification_images, size)])\n",
    "padded_images_hog = np.array([x.flatten() for x in pad_resize_images(hog_images, size)])"
   ]
  },
  {
   "cell_type": "markdown",
   "metadata": {},
   "source": [
    "### Shuffle, and split dataset"
   ]
  },
  {
   "cell_type": "code",
   "execution_count": 32,
   "metadata": {},
   "outputs": [
    {
     "name": "stderr",
     "output_type": "stream",
     "text": [
      "C:\\ProgramData\\Anaconda3\\envs\\opencv-env\\lib\\site-packages\\sklearn\\model_selection\\_split.py:2069: FutureWarning: From version 0.21, test_size will always complement train_size unless both are specified.\n",
      "  FutureWarning)\n"
     ]
    },
    {
     "name": "stdout",
     "output_type": "stream",
     "text": [
      "Training Sample Size\t 36813\n",
      "Testing Sample Size\t 9204\n",
      "HoG Training Sample Size 400\n",
      "HoG Testing Sample Size\t 100\n"
     ]
    }
   ],
   "source": [
    "X_train, X_test, y_train, y_test = train_test_split(padded_images, classification_targets, train_size=0.8)\n",
    "X_train_hog, X_test_hog, y_train_hog, y_test_hog = train_test_split(padded_images_hog, hog_targets, train_size=0.8)\n",
    "\n",
    "print('Training Sample Size\\t', len(X_train))\n",
    "print('Testing Sample Size\\t', len(X_test))\n",
    "print('HoG Training Sample Size', len(X_train_hog))\n",
    "print('HoG Testing Sample Size\\t', len(X_test_hog))"
   ]
  },
  {
   "cell_type": "markdown",
   "metadata": {},
   "source": [
    "## Train and fine tune with GridSearchCV"
   ]
  },
  {
   "cell_type": "markdown",
   "metadata": {},
   "source": [
    "### Without extracted HoG features"
   ]
  },
  {
   "cell_type": "markdown",
   "metadata": {},
   "source": [
    "#### Parameter estimation using grid search with cross-validation"
   ]
  },
  {
   "cell_type": "code",
   "execution_count": 51,
   "metadata": {},
   "outputs": [
    {
     "name": "stdout",
     "output_type": "stream",
     "text": [
      "Fitting 10 folds for each of 12 candidates, totalling 120 fits\n"
     ]
    },
    {
     "name": "stderr",
     "output_type": "stream",
     "text": [
      "C:\\ProgramData\\Anaconda3\\envs\\opencv-env\\lib\\site-packages\\sklearn\\model_selection\\_split.py:626: Warning: The least populated class in y has only 3 members, which is too few. The minimum number of members in any class cannot be less than n_splits=10.\n",
      "  % (min_groups, self.n_splits)), Warning)\n",
      "[Parallel(n_jobs=-1)]: Using backend LokyBackend with 8 concurrent workers.\n",
      "[Parallel(n_jobs=-1)]: Done  34 tasks      | elapsed:    7.4s\n",
      "[Parallel(n_jobs=-1)]: Done 120 out of 120 | elapsed:   20.1s finished\n",
      "C:\\ProgramData\\Anaconda3\\envs\\opencv-env\\lib\\site-packages\\sklearn\\model_selection\\_search.py:841: DeprecationWarning: The default of the `iid` parameter will change from True to False in version 0.22 and will be removed in 0.24. This will change numeric results when test-set sizes are unequal.\n",
      "  DeprecationWarning)\n"
     ]
    },
    {
     "name": "stdout",
     "output_type": "stream",
     "text": [
      "SVM fit with parameters achieving highest accuracy: {'C': 1, 'gamma': 0.001, 'kernel': 'linear'}\n"
     ]
    }
   ],
   "source": [
    "gridsearch_estimate = fine_tune_svm(X_train[:120], y_train[:120], folds=10)\n",
    "print('SVM fit with parameters achieving highest accuracy:', gridsearch_estimate.best_params_)"
   ]
  },
  {
   "cell_type": "markdown",
   "metadata": {},
   "source": [
    "We've done a parameter estimation with a significantly smaller subset of the sample data to improve computation time. Now that we've estimated the best possible parameters, we'll train our SVM with those parameters with a larger dataset.<br>\n",
    "__NOTE:__ This will take a while!"
   ]
  },
  {
   "cell_type": "code",
   "execution_count": 40,
   "metadata": {},
   "outputs": [],
   "source": [
    "C_estimate, gamma_estimate, kernel_estimate = gridsearch_estimate.best_params_\n",
    "svm_model = svm.SVC(C=C_estimate, \n",
    "                    gamma=gamma_estimate, \n",
    "                    kernel=kernel_estimate)\n",
    "\n",
    "svm_model = svm.fit(X_train, y_train)"
   ]
  },
  {
   "cell_type": "markdown",
   "metadata": {},
   "source": [
    "Prediction can also take a while, so I've given it its own cell."
   ]
  },
  {
   "cell_type": "code",
   "execution_count": null,
   "metadata": {},
   "outputs": [],
   "source": [
    "preds = svm_model.predict(X_test)"
   ]
  },
  {
   "cell_type": "markdown",
   "metadata": {},
   "source": [
    "Great! Everything is done! Now let's do some analysis with the confusion matrix."
   ]
  },
  {
   "cell_type": "code",
   "execution_count": 50,
   "metadata": {},
   "outputs": [
    {
     "name": "stdout",
     "output_type": "stream",
     "text": [
      "Accuracy Score: 0.2897653194263364\n",
      "Normalized confusion matrix\n"
     ]
    },
    {
     "data": {
      "image/png": "[encoded data removed]",
      "text/plain": [
       "<Figure size 1080x1080 with 2 Axes>"
      ]
     },
     "metadata": {
      "needs_background": "light"
     },
     "output_type": "display_data"
    }
   ],
   "source": [
    "print('Accuracy Score:', metrics.accuracy_score(preds, y_test))\n",
    "cf_matrix = metrics.confusion_matrix(y_test, preds)\n",
    "plot_confusion_matrix(cf_matrix, classes=categories, title='Confusion Matrix', normalize=True)"
   ]
  },
  {
   "cell_type": "markdown",
   "metadata": {},
   "source": [
    "Happy with the accuracy score? Then you should save it."
   ]
  },
  {
   "cell_type": "code",
   "execution_count": null,
   "metadata": {},
   "outputs": [],
   "source": [
    "dump(svm_model, 'models/SVM_classifier.joblib')"
   ]
  },
  {
   "cell_type": "markdown",
   "metadata": {},
   "source": [
    "#### With extracted HoG features"
   ]
  },
  {
   "cell_type": "code",
   "execution_count": 33,
   "metadata": {},
   "outputs": [
    {
     "name": "stdout",
     "output_type": "stream",
     "text": [
      "Fitting 10 folds for each of 6 candidates, totalling 60 fits\n"
     ]
    },
    {
     "name": "stderr",
     "output_type": "stream",
     "text": [
      "[Parallel(n_jobs=-1)]: Using backend LokyBackend with 8 concurrent workers.\n",
      "[Parallel(n_jobs=-1)]: Done  34 tasks      | elapsed:  1.3min\n",
      "[Parallel(n_jobs=-1)]: Done  60 out of  60 | elapsed:  2.0min finished\n",
      "C:\\ProgramData\\Anaconda3\\envs\\opencv-env\\lib\\site-packages\\sklearn\\model_selection\\_search.py:841: DeprecationWarning: The default of the `iid` parameter will change from True to False in version 0.22 and will be removed in 0.24. This will change numeric results when test-set sizes are unequal.\n",
      "  DeprecationWarning)\n"
     ]
    },
    {
     "name": "stdout",
     "output_type": "stream",
     "text": [
      "SVM fit with parameters achieving highest accuracy: {'C': 1, 'kernel': 'linear'}\n"
     ]
    }
   ],
   "source": [
    "gridsearch_estimate_hog = fine_tune_svm(X_train_hog, y_train_hog, folds=10)\n",
    "print('SVM fit with parameters achieving highest accuracy:', gridsearch_estimate_hog.best_params_)"
   ]
  },
  {
   "cell_type": "code",
   "execution_count": null,
   "metadata": {},
   "outputs": [],
   "source": [
    "C_estimate_hog, gamma_estimate_hog, kernel_estimate_hog = gridsearch_estimate_hog.best_params_\n",
    "svm_model_hog = svm.SVC(C=C_estimate_hog, \n",
    "                        gamma=gamma_estimate_hog, \n",
    "                        kernel=kernel_estimate_hog)\n",
    "\n",
    "svm_model_hog = svm.fit(X_train, y_train)"
   ]
  },
  {
   "cell_type": "code",
   "execution_count": 34,
   "metadata": {},
   "outputs": [
    {
     "name": "stdout",
     "output_type": "stream",
     "text": [
      "Accuracy Score for Classifier with HoG Features Extracted: 0.32\n"
     ]
    }
   ],
   "source": [
    "preds_hog = svm_model_hog.predict(X_test_hog)"
   ]
  },
  {
   "cell_type": "code",
   "execution_count": null,
   "metadata": {},
   "outputs": [],
   "source": [
    "print('Accuracy Score:', metrics.accuracy_score(preds_hog, y_test_hog))\n",
    "\n",
    "plot_confusion_matrix(metrics.confusion_matrix(y_test_hog, preds_hog), \n",
    "                      classes=categories, \n",
    "                      title='Confusion Matrix', \n",
    "                      normalize=True)"
   ]
  },
  {
   "cell_type": "code",
   "execution_count": 38,
   "metadata": {},
   "outputs": [
    {
     "data": {
      "text/plain": [
       "['models/SVM_classifier_hog.joblib']"
      ]
     },
     "execution_count": 38,
     "metadata": {},
     "output_type": "execute_result"
    }
   ],
   "source": [
    "dump(svm_model_hog, 'models/SVM_classifier_hog.joblib')"
   ]
  }
 ],
 "metadata": {
  "accelerator": "GPU",
  "colab": {
   "include_colab_link": true,
   "name": "SVM_classifier.ipynb",
   "provenance": [],
   "version": "0.3.2"
  },
  "kernelspec": {
   "display_name": "Python 3",
   "language": "python",
   "name": "python3"
  },
  "language_info": {
   "codemirror_mode": {
    "name": "ipython",
    "version": 3
   },
   "file_extension": ".py",
   "mimetype": "text/x-python",
   "name": "python",
   "nbconvert_exporter": "python",
   "pygments_lexer": "ipython3",
   "version": "3.6.6"
  }
 },
 "nbformat": 4,
 "nbformat_minor": 1
}
