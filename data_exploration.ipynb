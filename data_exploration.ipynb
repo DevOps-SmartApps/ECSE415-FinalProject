{
 "cells": [
  {
   "cell_type": "code",
   "execution_count": 1,
   "metadata": {},
   "outputs": [],
   "source": [
    "import numpy as np\n",
    "from sklearn import svm\n",
    "import cv2\n",
    "import matplotlib.pyplot as plt\n",
    "import os\n",
    "import math"
   ]
  },
  {
   "cell_type": "code",
   "execution_count": 2,
   "metadata": {},
   "outputs": [],
   "source": [
    "def plot_images(list_of_images, max_col = 4):\n",
    "    n = len(list_of_images)\n",
    "    if n == 1:\n",
    "        plt.imshow(list_of_images[0]); plt.axis('off'); plt.show()\n",
    "    else:\n",
    "        # get number of columns and rows required\n",
    "        r, c = 1, n\n",
    "        if n > max_col:\n",
    "            c = max_col\n",
    "            r = int(math.ceil(n/max_col))\n",
    "    \n",
    "        fig = plt.figure(figsize=(17, max_col * r))\n",
    "        for i, (img,name) in enumerate(list_of_images):\n",
    "            ax = fig.add_subplot(r, c, (i+1))\n",
    "            ax.set_title(str(name))\n",
    "            ax.axis('off')\n",
    "            ax.imshow(img)\n"
   ]
  },
  {
   "cell_type": "code",
   "execution_count": 55,
   "metadata": {},
   "outputs": [],
   "source": [
    "def get_train(path, label):\n",
    "    path += \"train/\" + label + \"/\"\n",
    "    \n",
    "    dataset = np.ndarray(shape=(len(train_files), channels, image_height, image_width),\n",
    "                     dtype=np.float32)\n",
    "\n",
    "    i = 0\n",
    "    for _file in train_files:\n",
    "        img = load_img(folder + \"/\" + _file)  # this is a PIL image\n",
    "        img.thumbnail((image_width, image_height))\n",
    "        # Convert to Numpy Array\n",
    "        x = img_to_array(img)  \n",
    "        x = x.reshape((3, 120, 160))\n",
    "        # Normalize\n",
    "        x = (x - 128.0) / 128.0\n",
    "        dataset[i] = x\n",
    "        i += 1\n",
    "        if i % 250 == 0:\n",
    "            print(\"%d images to array\" % i)\n",
    "    print(\"All images to array!\")"
   ]
  },
  {
   "cell_type": "code",
   "execution_count": 96,
   "metadata": {},
   "outputs": [],
   "source": [
    "def get_train(path_dir, category, n_images):\n",
    "    \"\"\"\n",
    "    @description Imports a selected number of resized and flattened images to grayscale\n",
    "    @param path_dir Root directory for your image dataset\n",
    "    @param category Category of images to choose from\n",
    "    @param n_images Number of images you'd like to import\n",
    "    \"\"\"\n",
    "    path_dir += '/train/' + category + '/'\n",
    "    files_name = os.listdir(path_dir)\n",
    "    imgs = []\n",
    "    for c, f in enumerate(files_name):\n",
    "        if c == n_images:\n",
    "            break\n",
    "        img = cv2.imread(path_dir + f, cv2.IMREAD_GRAYSCALE)\n",
    "        img = cv2.resize(img, (100, 100))\n",
    "        img_flat = img.flatten()\n",
    "        imgs.append(img_flat)\n",
    "    return np.array(imgs)\n",
    "            \n",
    "def get_test(path):\n",
    "    files_name = os.listdir(path + \"/test/\")\n",
    "    imgs = []\n",
    "    for c, f in enumerate(files_name):\n",
    "        imgs.append(cv2.imread(path + \"/test/\" + f))\n",
    "        if c > 10:\n",
    "            break\n",
    "            \n",
    "    return np.array(imgs)"
   ]
  },
  {
   "cell_type": "code",
   "execution_count": 97,
   "metadata": {},
   "outputs": [],
   "source": [
    "DIRECTORY = 'C:/Users/matth/Downloads/MIO-TCD-Classification'\n",
    "N_IMAGES = 100\n",
    "\n",
    "imgs_car = get_train(DIRECTORY, 'car', N_IMAGES)\n",
    "imgs_bicycle = get_train(DIRECTORY, 'bicycle', N_IMAGES)\n",
    "\n",
    "x_tr = np.concatenate((imgs_car, imgs_bicycle))\n",
    "y_tr = np.concatenate(([1 for i in range(N_IMAGES)], [0 for i in range(N_IMAGES)]))"
   ]
  },
  {
   "cell_type": "code",
   "execution_count": 98,
   "metadata": {
    "scrolled": true
   },
   "outputs": [
    {
     "name": "stdout",
     "output_type": "stream",
     "text": [
      "[[ 46  48  49 ...  80  82  82]\n",
      " [ 90 110 123 ... 168 168 168]\n",
      " [144 145 146 ... 137 138 140]\n",
      " ...\n",
      " [182 116  82 ... 151 148 143]\n",
      " [  1   1   2 ... 207 206 205]\n",
      " [165 165 165 ... 182 177 146]]\n",
      "(200, 10000)\n",
      "(200,)\n"
     ]
    }
   ],
   "source": [
    "print(x_tr)\n",
    "# print(x_tr[0:2])\n",
    "# print((x_tr).shape)\n",
    "print(x_tr.shape)\n",
    "print(y_tr.shape)"
   ]
  },
  {
   "cell_type": "code",
   "execution_count": 99,
   "metadata": {},
   "outputs": [],
   "source": [
    "def smv(x_train, y_train, x_val, y_val):\n",
    "    model = svm.SVC()\n",
    "    model.fit(x_train, y_train)\n",
    "    preds = model.predict(x_val, y_val)\n",
    "    return preds"
   ]
  },
  {
   "cell_type": "code",
   "execution_count": 100,
   "metadata": {},
   "outputs": [
    {
     "name": "stderr",
     "output_type": "stream",
     "text": [
      "C:\\ProgramData\\Anaconda3\\envs\\opencv-env\\lib\\site-packages\\sklearn\\svm\\base.py:196: FutureWarning: The default value of gamma will change from 'auto' to 'scale' in version 0.22 to account better for unscaled features. Set gamma explicitly to 'auto' or 'scale' to avoid this warning.\n",
      "  \"avoid this warning.\", FutureWarning)\n"
     ]
    },
    {
     "ename": "TypeError",
     "evalue": "predict() takes 2 positional arguments but 3 were given",
     "output_type": "error",
     "traceback": [
      "\u001b[1;31m---------------------------------------------------------------------------\u001b[0m",
      "\u001b[1;31mTypeError\u001b[0m                                 Traceback (most recent call last)",
      "\u001b[1;32m<ipython-input-100-d72b5527a036>\u001b[0m in \u001b[0;36m<module>\u001b[1;34m\u001b[0m\n\u001b[1;32m----> 1\u001b[1;33m \u001b[0msmv\u001b[0m\u001b[1;33m(\u001b[0m\u001b[0mx_tr\u001b[0m\u001b[1;33m,\u001b[0m \u001b[0my_tr\u001b[0m\u001b[1;33m,\u001b[0m \u001b[0mx_tr\u001b[0m\u001b[1;33m[\u001b[0m\u001b[1;33m:\u001b[0m\u001b[1;36m10\u001b[0m\u001b[1;33m]\u001b[0m\u001b[1;33m,\u001b[0m \u001b[0my_tr\u001b[0m\u001b[1;33m[\u001b[0m\u001b[1;33m:\u001b[0m\u001b[1;36m10\u001b[0m\u001b[1;33m]\u001b[0m\u001b[1;33m)\u001b[0m\u001b[1;33m\u001b[0m\u001b[0m\n\u001b[0m",
      "\u001b[1;32m<ipython-input-99-090c1406d21a>\u001b[0m in \u001b[0;36msmv\u001b[1;34m(x_train, y_train, x_val, y_val)\u001b[0m\n\u001b[0;32m      2\u001b[0m     \u001b[0mmodel\u001b[0m \u001b[1;33m=\u001b[0m \u001b[0msvm\u001b[0m\u001b[1;33m.\u001b[0m\u001b[0mSVC\u001b[0m\u001b[1;33m(\u001b[0m\u001b[1;33m)\u001b[0m\u001b[1;33m\u001b[0m\u001b[0m\n\u001b[0;32m      3\u001b[0m     \u001b[0mmodel\u001b[0m\u001b[1;33m.\u001b[0m\u001b[0mfit\u001b[0m\u001b[1;33m(\u001b[0m\u001b[0mx_train\u001b[0m\u001b[1;33m,\u001b[0m \u001b[0my_train\u001b[0m\u001b[1;33m)\u001b[0m\u001b[1;33m\u001b[0m\u001b[0m\n\u001b[1;32m----> 4\u001b[1;33m     \u001b[0mpreds\u001b[0m \u001b[1;33m=\u001b[0m \u001b[0mmodel\u001b[0m\u001b[1;33m.\u001b[0m\u001b[0mpredict\u001b[0m\u001b[1;33m(\u001b[0m\u001b[0mx_val\u001b[0m\u001b[1;33m,\u001b[0m \u001b[0my_val\u001b[0m\u001b[1;33m)\u001b[0m\u001b[1;33m\u001b[0m\u001b[0m\n\u001b[0m\u001b[0;32m      5\u001b[0m     \u001b[1;32mreturn\u001b[0m \u001b[0mpreds\u001b[0m\u001b[1;33m\u001b[0m\u001b[0m\n",
      "\u001b[1;31mTypeError\u001b[0m: predict() takes 2 positional arguments but 3 were given"
     ]
    }
   ],
   "source": [
    "smv(x_tr, y_tr, x_tr[:10], y_tr[:10])"
   ]
  },
  {
   "cell_type": "code",
   "execution_count": null,
   "metadata": {},
   "outputs": [],
   "source": []
  }
 ],
 "metadata": {
  "kernelspec": {
   "display_name": "Python 3",
   "language": "python",
   "name": "python3"
  },
  "language_info": {
   "codemirror_mode": {
    "name": "ipython",
    "version": 3
   },
   "file_extension": ".py",
   "mimetype": "text/x-python",
   "name": "python",
   "nbconvert_exporter": "python",
   "pygments_lexer": "ipython3",
   "version": "3.6.6"
  }
 },
 "nbformat": 4,
 "nbformat_minor": 2
}
