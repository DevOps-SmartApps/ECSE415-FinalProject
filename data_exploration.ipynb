{
 "cells": [
  {
   "cell_type": "markdown",
   "metadata": {},
   "source": [
    "# Classifer"
   ]
  },
  {
   "cell_type": "code",
   "execution_count": 1,
   "metadata": {},
   "outputs": [],
   "source": [
    "import numpy as np\n",
    "from sklearn import svm\n",
    "import cv2\n",
    "import matplotlib.pyplot as plt\n",
    "import os\n",
    "import math"
   ]
  },
  {
   "cell_type": "markdown",
   "metadata": {},
   "source": [
    "### Helper functions for image plotting, importing, and preprocessing"
   ]
  },
  {
   "cell_type": "code",
   "execution_count": 2,
   "metadata": {},
   "outputs": [],
   "source": [
    "def plot_images(list_of_images, max_col = 4):\n",
    "    n = len(list_of_images)\n",
    "    if n == 1:\n",
    "        plt.imshow(list_of_images[0]); plt.axis('off'); plt.show()\n",
    "    else:\n",
    "        # get number of columns and rows required\n",
    "        r, c = 1, n\n",
    "        if n > max_col:\n",
    "            c = max_col\n",
    "            r = int(math.ceil(n/max_col))\n",
    "    \n",
    "        fig = plt.figure(figsize=(17, max_col * r))\n",
    "        for i, (img,name) in enumerate(list_of_images):\n",
    "            ax = fig.add_subplot(r, c, (i+1))\n",
    "            ax.set_title(str(name))\n",
    "            ax.axis('off')\n",
    "            ax.imshow(img)\n"
   ]
  },
  {
   "cell_type": "code",
   "execution_count": 4,
   "metadata": {},
   "outputs": [],
   "source": [
    "def get_train(path_dir, category, n_images):\n",
    "    \"\"\"\n",
    "    @description Imports a selected number of resized and flattened images to grayscale\n",
    "    @param path_dir Root directory for your image dataset\n",
    "    @param category Category of images to choose from\n",
    "    @param n_images Number of images you'd like to import\n",
    "    \"\"\"\n",
    "    path_dir += '/train/' + category + '/'\n",
    "    files_name = os.listdir(path_dir)\n",
    "    imgs = []\n",
    "    for c, f in enumerate(files_name):\n",
    "        if c == n_images:\n",
    "            break\n",
    "        imgs.append(cv2.imread(path_dir + f, cv2.IMREAD_GRAYSCALE))\n",
    "    return np.array(imgs)\n",
    "            \n",
    "def get_test(path):\n",
    "    files_name = os.listdir(path + \"/test/\")\n",
    "    imgs = []\n",
    "    for c, f in enumerate(files_name):\n",
    "        imgs.append(cv2.imread(path + \"/test/\" + f))\n",
    "        if c > 10:\n",
    "            break\n",
    "            \n",
    "    return np.array(imgs)"
   ]
  },
  {
   "cell_type": "code",
   "execution_count": 5,
   "metadata": {},
   "outputs": [],
   "source": [
    "def pad_images(img_list, result_shape):\n",
    "    BLACK = [0,0,0]\n",
    "    result = np.empty_like(img_list)\n",
    "    \n",
    "    for i, img in enumerate(img_list):\n",
    "        height_adjust = result_shape[0] - img.shape[0]\n",
    "        width_adjust = result_shape[1] - img.shape[1]\n",
    "        \n",
    "        top = math.ceil(height_adjust / 2)\n",
    "        bot = height_adjust - top\n",
    "        left = math.ceil(width_adjust / 2)\n",
    "        right = width_adjust - left\n",
    "            \n",
    "        result[i] = cv2.copyMakeBorder(img, top, bot, left, right, cv2.BORDER_CONSTANT, value=BLACK)\n",
    "    return result"
   ]
  },
  {
   "cell_type": "code",
   "execution_count": 6,
   "metadata": {},
   "outputs": [],
   "source": [
    "DIRECTORY = './MIO-TCD-Classification'\n",
    "N_IMAGES = 100\n",
    "\n",
    "imgs_car = get_train(DIRECTORY, 'car', N_IMAGES)\n",
    "imgs_bicycle = get_train(DIRECTORY, 'bicycle', N_IMAGES)\n",
    "\n",
    "classification_images = np.concatenate((imgs_car, imgs_bicycle))\n",
    "y_tr = np.concatenate(([1 for i in range(N_IMAGES)], [0 for i in range(N_IMAGES)]))"
   ]
  },
  {
   "cell_type": "markdown",
   "metadata": {},
   "source": [
    "Pad images to maintain one common aspect ratio"
   ]
  },
  {
   "cell_type": "code",
   "execution_count": 7,
   "metadata": {},
   "outputs": [],
   "source": [
    "largest_width = np.max([x.shape[0] for x in classification_images])\n",
    "largest_height = np.max([x.shape[1] for x in classification_images])\n",
    "\n",
    "padded_images = pad_images(classification_images, (largest_width, largest_height))"
   ]
  },
  {
   "cell_type": "markdown",
   "metadata": {},
   "source": [
    "Flatten images to prepare for SVM"
   ]
  },
  {
   "cell_type": "code",
   "execution_count": 10,
   "metadata": {},
   "outputs": [],
   "source": [
    "x_tr = np.array([x.flatten() for x in padded_images])"
   ]
  },
  {
   "cell_type": "code",
   "execution_count": 15,
   "metadata": {},
   "outputs": [],
   "source": [
    "def compute_svm_prediction(x_train, y_train, x_val, y_val):\n",
    "    model = svm.SVC()\n",
    "    model.fit(x_train, y_train)\n",
    "    preds = model.predict(x_val)\n",
    "    return preds"
   ]
  },
  {
   "cell_type": "code",
   "execution_count": 16,
   "metadata": {},
   "outputs": [
    {
     "name": "stderr",
     "output_type": "stream",
     "text": [
      "C:\\ProgramData\\Anaconda3\\envs\\opencv-env\\lib\\site-packages\\sklearn\\svm\\base.py:196: FutureWarning: The default value of gamma will change from 'auto' to 'scale' in version 0.22 to account better for unscaled features. Set gamma explicitly to 'auto' or 'scale' to avoid this warning.\n",
      "  \"avoid this warning.\", FutureWarning)\n"
     ]
    },
    {
     "data": {
      "text/plain": [
       "array([1, 1, 1, 1, 1, 1, 1, 1, 1, 1])"
      ]
     },
     "execution_count": 16,
     "metadata": {},
     "output_type": "execute_result"
    }
   ],
   "source": [
    "compute_svm_prediction(x_tr, y_tr, x_tr[:10], y_tr[:10])"
   ]
  },
  {
   "cell_type": "code",
   "execution_count": null,
   "metadata": {},
   "outputs": [],
   "source": []
  }
 ],
 "metadata": {
  "kernelspec": {
   "display_name": "Python 3",
   "language": "python",
   "name": "python3"
  },
  "language_info": {
   "codemirror_mode": {
    "name": "ipython",
    "version": 3
   },
   "file_extension": ".py",
   "mimetype": "text/x-python",
   "name": "python",
   "nbconvert_exporter": "python",
   "pygments_lexer": "ipython3",
   "version": "3.6.6"
  }
 },
 "nbformat": 4,
 "nbformat_minor": 2
}
